{
 "cells": [
  {
   "cell_type": "markdown",
   "metadata": {},
   "source": [
    "## JSON Api\n",
    "\n",
    "> We ll demonstrate with [open weather map API](https://openweathermap.org/api)\n",
    "\n",
    "> If you are using an API, the download URL will be of specific structure, including an API key\n",
    "```java\n",
    " String apicall = \"http://api.openweathermap.org/data/2.5/weather?q=\" + cityStr + \"&appid=KEY\";\n",
    "```"
   ]
  },
  {
   "cell_type": "markdown",
   "metadata": {},
   "source": [
    "> To get weather data for city LONDON, we request the URL with API key,\n",
    "\n",
    ">> https://samples.openweathermap.org/data/2.5/weather?q=London,uk&appid=b6907d289e10d714a6e88b30761fae22\n",
    "```json\n",
    "{\"coord\":{\"lon\":-0.13,\"lat\":51.51},\n",
    "\"weather\":[{\"id\":300,\"main\":\"Drizzle\",\"description\":\"light intensity drizzle\",\"icon\":\"09d\"}],\n",
    "\"base\":\"stations\",\n",
    "\"main\":{\"temp\":280.32,\"pressure\":1012,\"humidity\":81,\"temp_min\":279.15,\"temp_max\":281.15},\n",
    "\"visibility\":10000,\n",
    "\"wind\":{\"speed\":4.1,\"deg\":80},\n",
    "\"clouds\":{\"all\":90},\n",
    "\"dt\":1485789600,\n",
    "\"sys\":{\"type\":1,\"id\":5091,\"message\":0.0103,\"country\":\"GB\",\"sunrise\":1485762037,\"sunset\":1485794875},\n",
    "\"id\":2643743,\n",
    "\"name\":\"London\",\n",
    "\"cod\":200}\n",
    "```"
   ]
  },
  {
   "cell_type": "markdown",
   "metadata": {},
   "source": [
    "> After downloading this data (just as we did from HTML source) and storing it in variable **result**, we can process it with **JSONObject**\n",
    "\n",
    "```java\n",
    "            //processing JSON data from json string\n",
    "            try {\n",
    "                JSONObject jsonObject = new JSONObject(result);\n",
    "                 \n",
    "                //Getting a specific key: use the required key value from API\n",
    "                String weatherInfo = jsonObject.getString(\"weather\"); \n",
    "                Log.i(\"Content \",weatherInfo); // this is an array of json strings\n",
    "                // [{\"id\":300,\"main\":\"Drizzle\",\"description\":\"light intensity drizzle\",\"icon\":\"09d\"},]\n",
    "\n",
    "                //looping through the json string\n",
    "                JSONArray arr = new JSONArray(weatherInfo);\n",
    "                 \n",
    "                for(int i=0; i< arr.length();i++){\n",
    "                    JSONObject jsonPart = arr.getJSONObject(i);\n",
    "                    Log.i(\"main\",jsonPart.getString(\"main\"));\n",
    "                    Log.i(\"description\",jsonPart.getString(\"description\"));\n",
    "                }\n",
    "\n",
    "            } catch (JSONException e) {\n",
    "                e.printStackTrace();\n",
    "            }\n",
    "```"
   ]
  },
  {
   "cell_type": "markdown",
   "metadata": {},
   "source": [
    "### Hiding android keyboard \n",
    "\n",
    "```java\n",
    "        //the input that caused keyboard to pop\n",
    "        EditText city = (EditText) findViewById(R.id.editText);\n",
    "        //hide keyboard with input manager\n",
    "        InputMethodManager mgr = (InputMethodManager) getSystemService(Context.INPUT_METHOD_SERVICE);\n",
    "        mgr.hideSoftInputFromWindow(city.getWindowToken(),0);\n",
    "```"
   ]
  },
  {
   "cell_type": "markdown",
   "metadata": {},
   "source": [
    "### Encoding URLS\n",
    "> When we join strings to API URL, we have to be careful with spaces by encoding it properly\n",
    "\n",
    "```java\n",
    "       //encode city name to deal with spaces (eg san francisco)\n",
    "        try {\n",
    "            cityStr = URLEncoder.encode(cityStr,\"UTF-8\");\n",
    "        } catch (UnsupportedEncodingException e) {\n",
    "            e.printStackTrace();\n",
    "        }\n",
    "```"
   ]
  },
  {
   "cell_type": "markdown",
   "metadata": {},
   "source": [
    "### Example project:\n",
    "\n",
    "> Weather"
   ]
  },
  {
   "cell_type": "code",
   "execution_count": null,
   "metadata": {},
   "outputs": [],
   "source": []
  }
 ],
 "metadata": {
  "kernelspec": {
   "display_name": "Python 3",
   "language": "python",
   "name": "python3"
  },
  "language_info": {
   "codemirror_mode": {
    "name": "ipython",
    "version": 3
   },
   "file_extension": ".py",
   "mimetype": "text/x-python",
   "name": "python",
   "nbconvert_exporter": "python",
   "pygments_lexer": "ipython3",
   "version": "3.4.3"
  }
 },
 "nbformat": 4,
 "nbformat_minor": 2
}
