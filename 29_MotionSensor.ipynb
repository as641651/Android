{
 "cells": [
  {
   "cell_type": "markdown",
   "metadata": {},
   "source": [
    "## Motion Sensor"
   ]
  },
  {
   "cell_type": "markdown",
   "metadata": {},
   "source": [
    "An android device can contain many sensors. Refer [documentation](https://developer.android.com/guide/topics/sensors/sensors_overview) for more details.\n",
    "\n",
    "In this section, an **illustration to get the tilt of the phone along x-axis is demontrated**. This basic setup can be extended to any sensor"
   ]
  },
  {
   "cell_type": "markdown",
   "metadata": {},
   "source": [
    "> 1) Instratiate **SensorManager**\n",
    "\n",
    "> 2) Get the required **Sensor from SensorManager**\n",
    "\n",
    "> 3) Implement **SensorEventListener**\n",
    "\n",
    "> 4) **Register** event lister with the Sensor "
   ]
  },
  {
   "cell_type": "markdown",
   "metadata": {},
   "source": [
    "```java\n",
    "public class MainActivity extends AppCompatActivity {\n",
    "\n",
    "    private SensorManager mSensorManager;\n",
    "    private Sensor mSensor;\n",
    "    private SensorEventListener mSensorEventListener;\n",
    "    private TextView mTextView;\n",
    "\n",
    "    @Override\n",
    "    protected void onCreate(Bundle savedInstanceState) {\n",
    "        super.onCreate(savedInstanceState);\n",
    "        setContentView(R.layout.activity_main);\n",
    "\n",
    "        mTextView = (TextView)findViewById(R.id.textView);\n",
    "\n",
    "        mSensorManager = (SensorManager)getSystemService(Context.SENSOR_SERVICE);\n",
    "        mSensor = mSensorManager.getDefaultSensor(Sensor.TYPE_ACCELEROMETER);\n",
    "\n",
    "\n",
    "        mSensorEventListener = new SensorEventListener() {\n",
    "            @Override\n",
    "            public void onSensorChanged(SensorEvent event) {\n",
    "                // measures tilt along x axis\n",
    "                float lux = event.values[0];\n",
    "                mTextView.setText(String.valueOf(lux));\n",
    "                Log.i(\"sensor value\", String.valueOf(lux));\n",
    "            }\n",
    "\n",
    "            @Override\n",
    "            public void onAccuracyChanged(Sensor sensor, int accuracy) {\n",
    "\n",
    "            }\n",
    "        };\n",
    "    }\n",
    "\n",
    "    @Override\n",
    "    protected void onResume() {\n",
    "        super.onResume();\n",
    "        if(mSensor!=null)\n",
    "            mSensorManager.registerListener(mSensorEventListener, mSensor, SensorManager.SENSOR_DELAY_NORMAL);\n",
    "    }\n",
    "\n",
    "    @Override\n",
    "    protected void onPause() {\n",
    "        if(mSensor!=null)\n",
    "            mSensorManager.unregisterListener(mSensorEventListener);\n",
    "        super.onPause();\n",
    "    }\n",
    "}\n",
    "```"
   ]
  },
  {
   "cell_type": "code",
   "execution_count": null,
   "metadata": {},
   "outputs": [],
   "source": []
  }
 ],
 "metadata": {
  "kernelspec": {
   "display_name": "Python 3",
   "language": "python",
   "name": "python3"
  },
  "language_info": {
   "codemirror_mode": {
    "name": "ipython",
    "version": 3
   },
   "file_extension": ".py",
   "mimetype": "text/x-python",
   "name": "python",
   "nbconvert_exporter": "python",
   "pygments_lexer": "ipython3",
   "version": "3.4.3"
  }
 },
 "nbformat": 4,
 "nbformat_minor": 2
}
