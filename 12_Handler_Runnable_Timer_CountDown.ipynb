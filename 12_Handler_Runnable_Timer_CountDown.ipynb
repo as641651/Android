{
 "cells": [
  {
   "cell_type": "markdown",
   "metadata": {},
   "source": [
    "### Handler and Runnable\n",
    "\n",
    "> 1) **Handler** controls the execution of tasks defined by **Runnable**\n",
    "\n",
    "> 2) > **Manual stopping** : handler.removeCallbacks(runnable)\n",
    "\n",
    "```java\n",
    "\n",
    "        final Handler handler = new Handler();\n",
    "\n",
    "\n",
    "        //REPETETION TASK\n",
    "        final Runnable run = new Runnable() {\n",
    "            @Override\n",
    "            public void run() {\n",
    "                Log.i(\"Runnable has run!\",\"Repeats every sec\");\n",
    "                //repeat this task devery 1s\n",
    "                handler.postDelayed(this,1000);\n",
    "            }\n",
    "        };\n",
    "\n",
    "        handler.post(run);\n",
    "        // To stop this runnable\n",
    "        //handler.removeCallbacks(run);\n",
    "\n",
    "\n",
    "\n",
    "        //DELAY TASK : run this task after 3s\n",
    "        final Runnable run2 = new Runnable() {\n",
    "            @Override\n",
    "            public void run() {\n",
    "                Log.i(\"Delay task\",\"This task is delayed\");\n",
    "            }\n",
    "        };\n",
    "        \n",
    "        handler.postDelayed(run2,3000);\n",
    "```\n",
    "\n"
   ]
  },
  {
   "cell_type": "markdown",
   "metadata": {},
   "source": [
    "### Timer\n",
    "\n",
    "> 1) Timer is a general **java utils**, unlike Handler and Runnable which are part of android.os\n",
    "\n",
    "> 2) **Stopping** : timer.cancel()\n",
    "\n",
    "```java\n",
    "\n",
    "        //TIMER from java utils\n",
    "        //Start a task after 5 seconds for every 1s\n",
    "        final Timer timer = new Timer();\n",
    "        timer.scheduleAtFixedRate(new TimerTask() {\n",
    "            @Override\n",
    "            public void run() {\n",
    "                Log.i(\"Another way to time\",\"Java utils Timer\");\n",
    "            }\n",
    "        },5000,1000);\n",
    "        //To stop\n",
    "        //timer.cancel()\n",
    "```"
   ]
  },
  {
   "cell_type": "markdown",
   "metadata": {},
   "source": [
    "### Count down timer\n",
    "\n",
    "> Repeats a task at set interval until a max time\n",
    "\n",
    "```java\n",
    "    //COUNT DOWN TIMER : repeat a task in an interval until certain time\n",
    "    // every 2s for 10s\n",
    "    // When we dont store this in new variable, this object is destroyed after count down is finished\n",
    "    new CountDownTimer(10000,2000) {\n",
    "\n",
    "        @Override\n",
    "        public void onTick(long millisUntilFinished) {\n",
    "            //executed at every interval\n",
    "            Log.i(\"Count down\",String.valueOf(millisUntilFinished/1000));\n",
    "        }\n",
    "\n",
    "        @Override\n",
    "        public void onFinish() {\n",
    "            //executed on finish\n",
    "            Log.i(\"Count down\",\"Finished\");\n",
    "\n",
    "            // stopping an infinite runnable\n",
    "            handler.removeCallbacks(run);\n",
    "\n",
    "            //stop timer\n",
    "            timer.cancel();\n",
    "        }\n",
    "    }.start();\n",
    "    ```"
   ]
  },
  {
   "cell_type": "markdown",
   "metadata": {},
   "source": [
    "### Example project:\n",
    "\n",
    "> Egg timer"
   ]
  },
  {
   "cell_type": "code",
   "execution_count": null,
   "metadata": {},
   "outputs": [],
   "source": []
  }
 ],
 "metadata": {
  "kernelspec": {
   "display_name": "Python 3",
   "language": "python",
   "name": "python3"
  },
  "language_info": {
   "codemirror_mode": {
    "name": "ipython",
    "version": 3
   },
   "file_extension": ".py",
   "mimetype": "text/x-python",
   "name": "python",
   "nbconvert_exporter": "python",
   "pygments_lexer": "ipython3",
   "version": "3.4.3"
  }
 },
 "nbformat": 4,
 "nbformat_minor": 2
}
