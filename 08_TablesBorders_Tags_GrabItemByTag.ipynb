{
 "cells": [
  {
   "cell_type": "markdown",
   "metadata": {},
   "source": [
    "## Tables with border\n",
    "\n",
    "```xml\n",
    "<Linearlayout layout=wrap >\n",
    "   <Tablerow layout=matchparent>\n",
    "        <Widget />\n",
    "        <Linearlayout width=\"1dp\",color=\"xxx\" /> <!-- border -->\n",
    "        <Widget />\n",
    "        <Linearlayout width=\"1dp\",color=\"xxx\" /> <!-- border -->\n",
    "   < /tablerow>\n",
    "    <Linearlayout height=\"1dp\" color=\"xxx\" /> <!-- border -->\n",
    "   <Tablerow layout=matchparent>\n",
    "        <Widget />\n",
    "        <Linearlayout width=\"1dp\",color=\"xxx\" /> <!-- border -->\n",
    "        <Widget />\n",
    "        <Linearlayout width=\"1dp\",color=\"xxx\" /> <!-- border -->\n",
    "   < /tablerow>\n",
    "< /Linearlayout>\n",
    "```\n",
    "\n",
    "**NOTE** : **Tablelayout** View is causing alignment problems. Thats why using Linear layout"
   ]
  },
  {
   "cell_type": "markdown",
   "metadata": {},
   "source": [
    "## Tags and grabbing specific widgets\n",
    "\n",
    "We can give a tag to each widget. (or content desccription)\n",
    "\n",
    "```xml\n",
    "<ImageView\n",
    "                android:id=\"@+id/button32\"\n",
    "                android:layout_width=\"@dimen/widget_size\"\n",
    "                android:layout_height=\"@dimen/widget_size\"\n",
    "                android:contentDescription=\"img\"\n",
    "                android:onClick=\"clickFunction\"\n",
    "                android:padding=\"10dp\"\n",
    "                android:tag=\"2\" />\n",
    "```\n",
    "\n",
    "This tag can be used to grab the specific items items in trhe java code\n",
    "\n",
    "```java\n",
    "\n",
    "        View root = findViewById(R.id.linearLayout);\n",
    "\n",
    "        ArrayList<View> out = new ArrayList<>();\n",
    "\n",
    "        root.findViewsWithText(out,\"img\",View.FIND_VIEWS_WITH_CONTENT_DESCRIPTION);\n",
    "```"
   ]
  },
  {
   "cell_type": "markdown",
   "metadata": {},
   "source": [
    "### Example :\n",
    "\n",
    "> Check Connect 3 example"
   ]
  },
  {
   "cell_type": "code",
   "execution_count": null,
   "metadata": {},
   "outputs": [],
   "source": []
  }
 ],
 "metadata": {
  "kernelspec": {
   "display_name": "Python 3",
   "language": "python",
   "name": "python3"
  },
  "language_info": {
   "codemirror_mode": {
    "name": "ipython",
    "version": 3
   },
   "file_extension": ".py",
   "mimetype": "text/x-python",
   "name": "python",
   "nbconvert_exporter": "python",
   "pygments_lexer": "ipython3",
   "version": "3.4.3"
  }
 },
 "nbformat": 4,
 "nbformat_minor": 2
}
