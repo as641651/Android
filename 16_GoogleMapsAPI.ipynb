{
 "cells": [
  {
   "cell_type": "markdown",
   "metadata": {},
   "source": [
    "## Google Maps API"
   ]
  },
  {
   "cell_type": "markdown",
   "metadata": {},
   "source": [
    "> 1) Start a project with **Maps activity** instead of blank\n",
    "\n",
    "> 2) Set minimum API level to be **atleast Marshmellow** (6.0)\n",
    "\n",
    "> 3) Enable **Google Map SDK for android API** in your cloud account and get the API key. \n",
    "\n",
    "> 4) Place your API key in **src/debug/res/values/google_maps_api.xml**"
   ]
  },
  {
   "cell_type": "markdown",
   "metadata": {},
   "source": [
    "### Maps activity java \n",
    "\n",
    "```java\n",
    "\n",
    "public class MapsActivity extends FragmentActivity implements OnMapReadyCallback {\n",
    "\n",
    "    private GoogleMap mMap;\n",
    "\n",
    "    @Override\n",
    "    protected void onCreate(Bundle savedInstanceState) {\n",
    "        super.onCreate(savedInstanceState);\n",
    "        setContentView(R.layout.activity_maps);\n",
    "        // Obtain the SupportMapFragment and get notified when the map is ready to be used.\n",
    "        SupportMapFragment mapFragment = (SupportMapFragment) getSupportFragmentManager()\n",
    "                .findFragmentById(R.id.map);\n",
    "        mapFragment.getMapAsync(this);\n",
    "    }\n",
    "\n",
    "\n",
    "    /**\n",
    "     * Manipulates the map once available.\n",
    "     * This callback is triggered when the map is ready to be used.\n",
    "     * This is where we can add markers or lines, add listeners or move the camera. In this case,\n",
    "     * we just add a marker near Sydney, Australia.\n",
    "     * If Google Play services is not installed on the device, the user will be prompted to install\n",
    "     * it inside the SupportMapFragment. This method will only be triggered once the user has\n",
    "     * installed Google Play services and returned to the app.\n",
    "     */\n",
    "    @Override\n",
    "    public void onMapReady(GoogleMap googleMap) {\n",
    "        mMap = googleMap;\n",
    "\n",
    "        //set map type\n",
    "        mMap.setMapType(GoogleMap.MAP_TYPE_HYBRID); //shows satellite and terrains\n",
    "\n",
    "        // create a location variable\n",
    "        LatLng everest = new LatLng(27.98, 86.92);\n",
    "\n",
    "\n",
    "        //place marker\n",
    "        //mMap.addMarker(new MarkerOptions().position(everest).title(\"Mount everest\"));\n",
    "        //customize marker\n",
    "        mMap.addMarker(new MarkerOptions().position(everest).title(\"Mount everest\")\n",
    "                .icon(BitmapDescriptorFactory.defaultMarker(BitmapDescriptorFactory.HUE_ORANGE)));\n",
    "\n",
    "        //move camera\n",
    "        //mMap.moveCamera(CameraUpdateFactory.newLatLng(everest));\n",
    "        //set zoom level 1-20\n",
    "        mMap.moveCamera(CameraUpdateFactory.newLatLngZoom(everest,10));\n",
    "\n",
    "    }\n",
    "}\n",
    "```"
   ]
  },
  {
   "cell_type": "code",
   "execution_count": null,
   "metadata": {},
   "outputs": [],
   "source": []
  }
 ],
 "metadata": {
  "kernelspec": {
   "display_name": "Python 3",
   "language": "python",
   "name": "python3"
  },
  "language_info": {
   "codemirror_mode": {
    "name": "ipython",
    "version": 3
   },
   "file_extension": ".py",
   "mimetype": "text/x-python",
   "name": "python",
   "nbconvert_exporter": "python",
   "pygments_lexer": "ipython3",
   "version": "3.4.3"
  }
 },
 "nbformat": 4,
 "nbformat_minor": 2
}
