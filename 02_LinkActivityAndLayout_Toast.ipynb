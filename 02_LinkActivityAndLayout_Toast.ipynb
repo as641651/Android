{
 "cells": [
  {
   "cell_type": "markdown",
   "metadata": {},
   "source": [
    "## Link activity and layout"
   ]
  },
  {
   "cell_type": "markdown",
   "metadata": {},
   "source": [
    "> 1) As soon as we create a project, the layout is first modified\n",
    "\n",
    "> 2) The widget (say TextView widget) from the pallet is dragged on to the emulator. This adds an XML element with some default settings\n",
    "\n",
    "```xml\n",
    "   <TextView\n",
    "        android:id=\"@+id/hello\"\n",
    "        android:layout_width=\"wrap_content\"\n",
    "        android:layout_height=\"44dp\"\n",
    "        android:text=\"@string/my_great_app\"\n",
    "        android:textColor=\"@color/colorAccent\"\n",
    "        android:textSize=\"24sp\"\n",
    "        android:textStyle=\"bold\"\n",
    "        app:fontFamily=\"serif\" />\n",
    "```\n",
    "\n",
    "> 3) The default parent component is **ConstraintLayout** (Look at the component tree)\n",
    "\n",
    "> 4) Set the **constraints** for the widgets. This can be done interactively by drawing connectors from the widget. \n",
    "\n",
    "```xml\n",
    "    <TextView\n",
    "        ...\n",
    "        app:layout_constraintLeft_toLeftOf=\"parent\"\n",
    "        <!-- OR app:layout_constraintStart_toStartOf=\"parent\" -->\n",
    "        app:layout_constraintRight_toRightOf=\"parent\"\n",
    "        <!-- OR app:layout_constraintEnd_toEndOf=\"parent\" -->\n",
    "        app:layout_constraintTop_toBottomOf=\"@+id/button\"\n",
    "        app:layout_constraintBottom_toBottomOf=\"parent\" />\n",
    "```\n",
    ">> **NOTE :** Do not add **constraintBottom** if we have other elements below it. Although it works when edited in the XML, this causes some issues when done interactively. Instead add ConstraintTop_toBottomOf this element from the blew element "
   ]
  },
  {
   "cell_type": "markdown",
   "metadata": {},
   "source": [
    "** Example of building responsive application**"
   ]
  },
  {
   "cell_type": "markdown",
   "metadata": {},
   "source": [
    "> 1) Create a **button widget** and edit **onClick** attribute and set its value to a **function name** (say clickFunction). This **function should be defined in MainActivity.java**\n",
    "\n",
    "```java\n",
    "...\n",
    "// Press Alt+Enter to automatically import these classes\n",
    "import android.util.Log;\n",
    "import android.view.View;\n",
    "\n",
    "public class MainActivity extends AppCompatActivity {\n",
    "\n",
    "    // On clicking button function\n",
    "    public void clickFunction(View view){\n",
    "        //This will display information in the console\n",
    "        Log.i(\"Info\",\"Button clicked!\");\n",
    "\n",
    "    }\n",
    "\n",
    "    ...\n",
    "}\n",
    "```"
   ]
  },
  {
   "cell_type": "markdown",
   "metadata": {},
   "source": [
    "**NOTE** : \n",
    "\n",
    "> 1) For automatic imports, click **Alt+enter** after typing the required object type. eg. View, Log\n",
    "\n",
    "> 2) To get parameter information of a method, click **ctrl+Q**"
   ]
  },
  {
   "cell_type": "markdown",
   "metadata": {},
   "source": [
    "### Grab elements by ID\n",
    "\n",
    "> 1) Here we demonstrate how to grab contents of an element by **id**. The **id** is defined in the layout when creating the widget. This can be accessed in MainActivity.java by **R.id.WidgetID**\n",
    "\n",
    "> 2) Remember to **cast** the element into required widget type.\n",
    "\n",
    "> Pop ups in android are called **Toast**\n",
    "\n",
    "```java\n",
    "    public void clickFunction(View view){\n",
    "\n",
    "        //Getting info from user\n",
    "        EditText myTextField = (EditText) findViewById(R.id.myText);\n",
    "\n",
    "        Log.i(\"Name\",myTextField.getText().toString());\n",
    "\n",
    "        //Temporary Pop up\n",
    "        Toast.makeText(MainActivity.this,\n",
    "                \"Hi \" + myTextField.getText().toString(),\n",
    "                Toast.LENGTH_LONG).show();\n",
    "    }\n",
    "```"
   ]
  },
  {
   "cell_type": "code",
   "execution_count": null,
   "metadata": {},
   "outputs": [],
   "source": []
  }
 ],
 "metadata": {
  "kernelspec": {
   "display_name": "Python 3",
   "language": "python",
   "name": "python3"
  },
  "language_info": {
   "codemirror_mode": {
    "name": "ipython",
    "version": 3
   },
   "file_extension": ".py",
   "mimetype": "text/x-python",
   "name": "python",
   "nbconvert_exporter": "python",
   "pygments_lexer": "ipython3",
   "version": "3.4.3"
  }
 },
 "nbformat": 4,
 "nbformat_minor": 2
}
