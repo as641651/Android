{
 "cells": [
  {
   "cell_type": "markdown",
   "metadata": {},
   "source": [
    "## Installation and set up - Android Studio 3.2.1"
   ]
  },
  {
   "cell_type": "markdown",
   "metadata": {},
   "source": [
    "This note is for my personal remainder\n",
    "\n",
    "> 1) Create a folder **Android**\n",
    "\n",
    "> 2) Download [Android studio](https://developer.android.com/studio/?gclid=Cj0KCQiApbzhBRDKARIsAIvZue-CKGF7z5ElKeLvYGRRTjqTm8t0iureQqm9HvRtnAtl37ICks9lnnEaAlAoEALw_wcB) and place the folder inside **Android**\n",
    "\n",
    "> 3) Create another folder inside **Android** and name it **Android_SDK**\n",
    "\n",
    "> 4) Run **studio.sh** located inside **android_studio/bin**\n",
    "\n",
    "> 5) Select **custom setup of configuration** and point the destination for downloading **SDK** at **Android/Android_SDK**. \n",
    "\n",
    "> 6) You may choose to have the project folders outside the setup folder\n"
   ]
  },
  {
   "cell_type": "markdown",
   "metadata": {},
   "source": [
    "### To start android studio\n",
    "\n",
    ">```bash\n",
    "cd ~/Android/android_studio/bin\n",
    "./studio.sh\n",
    "```"
   ]
  },
  {
   "cell_type": "markdown",
   "metadata": {},
   "source": [
    "**NOTE :** \n",
    "\n",
    "> 1) To open a project, choose the project folder from the IDE or click on the **build.gradle** file from the project folder\n",
    "\n",
    "> 2) After opening/creating  a project, you can close it by selecting **File -> close project**. This will free up RAM space "
   ]
  },
  {
   "cell_type": "markdown",
   "metadata": {},
   "source": [
    "### Emulator\n",
    "\n",
    "When the **Run** button is clicked, the device to be simulated have to be chosen. You can either check the app in your android device or simulate on a virtual device\n",
    "\n",
    "> 1) When testing on android device, make sure **USB debugging** option is enabled. This can be done under the **developer options** which can be enabled by tapping on the **build number 7 times**\n",
    "\n",
    ">2) Otherwise, you can create a virtual device specific to any mobile and OS"
   ]
  },
  {
   "cell_type": "code",
   "execution_count": null,
   "metadata": {},
   "outputs": [],
   "source": []
  }
 ],
 "metadata": {
  "kernelspec": {
   "display_name": "Python 3",
   "language": "python",
   "name": "python3"
  },
  "language_info": {
   "codemirror_mode": {
    "name": "ipython",
    "version": 3
   },
   "file_extension": ".py",
   "mimetype": "text/x-python",
   "name": "python",
   "nbconvert_exporter": "python",
   "pygments_lexer": "ipython3",
   "version": "3.4.3"
  }
 },
 "nbformat": 4,
 "nbformat_minor": 2
}
