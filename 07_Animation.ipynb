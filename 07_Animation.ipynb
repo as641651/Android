{
 "cells": [
  {
   "cell_type": "markdown",
   "metadata": {},
   "source": [
    "## Animation"
   ]
  },
  {
   "cell_type": "markdown",
   "metadata": {},
   "source": [
    "### 1) Fade\n",
    "\n",
    "> 1) To make an image fade out, access the **animate** method from the **View object**\n",
    "\n",
    "> 2) Any local variable in a method that needs to accessed by inner classes (**Runnable** in this case) must be **final**. If you dont want to declare final, make the variable global\n",
    "\n",
    "> 3) If you fade out a widget,set visibility to **GONE**, otherwise, the widget will be clickable and interfere \n",
    "\n",
    "```java\n",
    "\n",
    "    //any local variable in a method that needs to accessed by inner classes must be final.\n",
    "    // if you dont want to declare final, make the variable global\n",
    "    final ImageView img1 = (ImageView) findViewById(R.id.imageView2);\n",
    "\n",
    "    // 2000ms = 2 seconds\n",
    "    img1.animate().alpha(0f).setDuration(2000).withEndAction(new Runnable() {\n",
    "                @Override\n",
    "                public void run() {\n",
    "                    //part of the code that will be executed after animation ends\n",
    "                    img1.setVisibility(View.GONE);\n",
    "                }\n",
    "            });\n",
    "```"
   ]
  },
  {
   "cell_type": "markdown",
   "metadata": {},
   "source": [
    "**NOTE** (**Image scale**) : To set image to fill the screen, set **scale to fitXY**"
   ]
  },
  {
   "cell_type": "markdown",
   "metadata": {},
   "source": [
    "### 2) Translation, Rotation\n",
    "\n",
    "```java\n",
    "    img.animate().translateXBy(-10f).setDuration(2000); // move left by 10 pixels    \n",
    "    img.animate().translateXBy(10f).setDuration(2000); // move right by 10 pixels\n",
    "    img.animate().translateYBy(10f).setDuration(2000); // move up by 10 pixels\n",
    "    img.animate().translateYBy(-10f).setDuration(2000); // move down by 10 pixels\n",
    "\n",
    "    img.animate().rotation(180f).setDuration(2000); // rotate by 180 degree clockwise\n",
    "    img.animate().rotation(180f*10f).setDuration(2000); // rotate by 10 times clockwise in 2s\n",
    "    img.animate().rotation(-180f).setDuration(2000); // rotate by 180 degree anti-clockwise\n",
    "```"
   ]
  },
  {
   "cell_type": "markdown",
   "metadata": {},
   "source": [
    "### 3) Scaling (Shrink and expand)\n",
    "\n",
    "```java\n",
    "    img.animate().scaleX(0.5f).scaleY(0.3f).setDuration(2000) //set the new desired length and breadth\n",
    "```"
   ]
  },
  {
   "cell_type": "markdown",
   "metadata": {},
   "source": [
    "### Combining animations\n",
    "\n",
    "```java\n",
    "    public class MainActivity extends AppCompatActivity {\n",
    "\n",
    "        public void animateFunction(View view){\n",
    "            ImageView bart = (ImageView) findViewById(R.id.imageView);\n",
    "                                               \n",
    "            //spins to position from out of screen\n",
    "            bart.animate().translationXBy(1000f).translationYBy(1000f).rotation(3600f).setDuration(2000);\n",
    "\n",
    "            //traslate with respect to absolute coords\n",
    "            //bart.animate().translationX(180f).translationY(140f).rotation(3600f).setDuration(2000);\n",
    "\n",
    "            //feels like widget is moving in z axis\n",
    "            //bart.animate().scaleX(0.5f).scaleY(0.5f).translationXBy(200f).translationYBy(300f).setDuration(2000);\n",
    "        }\n",
    "        @Override\n",
    "        protected void onCreate(Bundle savedInstanceState) {\n",
    "            super.onCreate(savedInstanceState);\n",
    "            setContentView(R.layout.activity_main);\n",
    "\n",
    "            ImageView bart = (ImageView) findViewById(R.id.imageView);\n",
    "\n",
    "            //set the image initially out of screen\n",
    "            bart.setTranslationX(-1000f);\n",
    "            bart.setTranslationY(-1000f);\n",
    "\n",
    "        }\n",
    "    }\n",
    "```"
   ]
  },
  {
   "cell_type": "code",
   "execution_count": null,
   "metadata": {},
   "outputs": [],
   "source": []
  }
 ],
 "metadata": {
  "kernelspec": {
   "display_name": "Python 3",
   "language": "python",
   "name": "python3"
  },
  "language_info": {
   "codemirror_mode": {
    "name": "ipython",
    "version": 3
   },
   "file_extension": ".py",
   "mimetype": "text/x-python",
   "name": "python",
   "nbconvert_exporter": "python",
   "pygments_lexer": "ipython3",
   "version": "3.4.3"
  }
 },
 "nbformat": 4,
 "nbformat_minor": 2
}
