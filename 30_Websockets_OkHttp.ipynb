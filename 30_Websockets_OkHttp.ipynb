{
 "cells": [
  {
   "cell_type": "markdown",
   "metadata": {},
   "source": [
    "## Websocket\n",
    "\n",
    "Websockets communication is established through an **initial handshake**. \n",
    "\n",
    "That is, the client sends a **GET request to the server** in the following format\n",
    "\n",
    "```http\n",
    "GET /chat HTTP/1.1\n",
    "Host: example.com:8000\n",
    "Upgrade: websocket\n",
    "Connection: Upgrade\n",
    "Sec-WebSocket-Key: dGhlIHNhbXBsZSBub25jZQ==\n",
    "Sec-WebSocket-Version: 13\n",
    "```"
   ]
  },
  {
   "cell_type": "markdown",
   "metadata": {},
   "source": [
    "The server responds with a **socket key** which is computed with concatenating **Sec-WebSocket-Key** and **258EAFA5-E914-47DA-95CA-C5AB0DC85B11**, taking the **SHA1-hash** of the result and return the **base64** encoding of the hash. \n",
    "\n",
    "The response will be in the following format containing the response key\n",
    "\n",
    "```http\n",
    "HTTP/1.1 101 Switching Protocols\n",
    "Upgrade: websocket\n",
    "Connection: Upgrade\n",
    "Sec-WebSocket-Accept: s3pPLMBiTxaQ9kYGzzhZRbK+xOo=\n",
    "```"
   ]
  },
  {
   "cell_type": "markdown",
   "metadata": {},
   "source": [
    "Only after the server respons with the **accept key**, client will be able to proceed with the communication, which are also transmitted in a encoded format called **frames**"
   ]
  },
  {
   "cell_type": "markdown",
   "metadata": {},
   "source": [
    "**Therefore, implementation of websockets can be quite heavy for certain embedded systems MCs like Arduino UNO**"
   ]
  },
  {
   "cell_type": "markdown",
   "metadata": {},
   "source": [
    "**[Reference](https://developer.mozilla.org/en-US/docs/Web/API/WebSockets_API/Writing_WebSocket_servers)**"
   ]
  },
  {
   "cell_type": "markdown",
   "metadata": {},
   "source": [
    "### Implementation with OkHttp"
   ]
  },
  {
   "cell_type": "markdown",
   "metadata": {},
   "source": [
    ">1)  We will handle **websocket** with external library **OkHttp**. Add the following line to **Gradle.scripts** corresponding to **app** module\n",
    "```xml\n",
    "implementation 'com.squareup.okhttp3:okhttp:3.10.0'\n",
    "```\n",
    "> 2) **Permission to use internet** is needed\n",
    "```xml\n",
    "<uses-permission android:name=\"android.permission.INTERNET\"></uses-permission>\n",
    "```\n",
    "\n",
    "\n",
    "> 2) **OkHttp** uses its **own background thread** to send and receive messages. So the user **need not have to worry about the work allocations**. [Reference](http://fedepaol.github.io/blog/2017/04/30/android-okhttp-and-websockets/)"
   ]
  },
  {
   "cell_type": "markdown",
   "metadata": {},
   "source": [
    "### Send data from motion sensor onto a websocket \n",
    "\n",
    "> 1) We use a demo **[socket server](http://www.websocket.org/echo.html)** which echos the sent messages\n",
    "\n",
    "> 2) Socket connection is **opened** when **start** is pressed. Similarly, connection is **stopped** on pressing **stop / when the app is paused**\n",
    "\n",
    "<img src=\"files/websocket.png\" width=200px/>"
   ]
  },
  {
   "cell_type": "markdown",
   "metadata": {},
   "source": [
    "<div style=\"border:2px solid;margin:0 20px 0 20px\" ></div> \n",
    "\n",
    "```java\n",
    "import okhttp3.OkHttpClient;\n",
    "import okhttp3.Request;\n",
    "import okhttp3.Response;\n",
    "import okhttp3.WebSocket;\n",
    "import okhttp3.WebSocketListener;\n",
    "\n",
    "public class MainActivity extends AppCompatActivity {\n",
    "\n",
    "    private Button mStart;\n",
    "    private Button mStop;\n",
    "    private TextView mTextView;\n",
    "    private OkHttpClient client;\n",
    "    private WebSocket mWs;\n",
    "\n",
    "\n",
    "    private final class EchoWebSocketListener extends WebSocketListener{\n",
    "\n",
    "        @Override\n",
    "        public void onOpen(WebSocket webSocket, Response response) {\n",
    "            super.onOpen(webSocket, response);\n",
    "            webSocket.send(\"Hello!\");\n",
    "            webSocket.send(\"Connection established!\");\n",
    "            Log.i(\"Ws\", \"New ws created\");\n",
    "        }\n",
    "\n",
    "        @Override\n",
    "        public void onMessage(WebSocket webSocket, String text) {\n",
    "            super.onMessage(webSocket, text);\n",
    "            // on receiving message\n",
    "            mTextView.setText(mTextView.getText().toString() + \"\\n\" + text);\n",
    "\n",
    "        }\n",
    "\n",
    "        @Override\n",
    "        public void onClosing(WebSocket webSocket, int code, String reason) {\n",
    "            super.onClosing(webSocket, code, reason);\n",
    "            mTextView.setText(mTextView.getText().toString() + \"\\n\\n\" + reason);\n",
    "            Log.i(\"Ws\", \"ws closed\");\n",
    "\n",
    "        }\n",
    "    }\n",
    "\n",
    "    float mTilt;\n",
    "    private SensorManager mSensorManager;\n",
    "    private Sensor mSensor;\n",
    "    private SensorEventListener mSensorEventListener = new SensorEventListener() {\n",
    "        @Override\n",
    "        public void onSensorChanged(SensorEvent event) {\n",
    "            mTilt = event.values[0];\n",
    "            // OkHttp executes send in the background thread\n",
    "            mWs.send(String.valueOf(mTilt));\n",
    "        }\n",
    "\n",
    "        @Override\n",
    "        public void onAccuracyChanged(Sensor sensor, int accuracy) {\n",
    "\n",
    "        }\n",
    "    };\n",
    "\n",
    "\n",
    "\n",
    "    @Override\n",
    "    protected void onCreate(Bundle savedInstanceState) {\n",
    "        super.onCreate(savedInstanceState);\n",
    "        setContentView(R.layout.activity_main);\n",
    "\n",
    "        client = new OkHttpClient();\n",
    "        mSensorManager = (SensorManager) getSystemService(Context.SENSOR_SERVICE);\n",
    "        mSensor = mSensorManager.getDefaultSensor(Sensor.TYPE_ACCELEROMETER);\n",
    "\n",
    "        mTextView = (TextView) findViewById(R.id.output);\n",
    "        mTextView.setMovementMethod(new ScrollingMovementMethod()); // for scrolling\n",
    "\n",
    "        mStart = (Button) findViewById(R.id.start_btn);\n",
    "        mStart.setOnClickListener( new View.OnClickListener(){\n",
    "\n",
    "            @Override\n",
    "            public void onClick(View v) {\n",
    "                // create new connection\n",
    "                Request request = new Request.Builder().url(\"ws://echo.websocket.org\").build();\n",
    "                EchoWebSocketListener listener = new EchoWebSocketListener();\n",
    "                mWs = client.newWebSocket(request,listener);\n",
    "                if(mSensor!=null)\n",
    "                    mSensorManager.registerListener(mSensorEventListener, mSensor, SensorManager.SENSOR_DELAY_NORMAL);\n",
    "\n",
    "            }\n",
    "        });\n",
    "\n",
    "        mStop = (Button) findViewById(R.id.stop_btn);\n",
    "        mStop.setOnClickListener(new View.OnClickListener() {\n",
    "            @Override\n",
    "            public void onClick(View v) {\n",
    "                if(mSensor!=null)\n",
    "                    mSensorManager.unregisterListener(mSensorEventListener);\n",
    "                if(mWs != null){\n",
    "                    mWs.close(1000,\"Goodbye\");\n",
    "                }\n",
    "            }\n",
    "        });\n",
    "    }\n",
    "\n",
    "    @Override\n",
    "    protected void onPause() {\n",
    "        // stop connections when paused\n",
    "        mStop.callOnClick();\n",
    "        super.onPause();\n",
    "    }\n",
    "}\n",
    "```\n",
    "<div style=\"border:2px solid;margin:0 20px 0 20px\" ></div> \n"
   ]
  },
  {
   "cell_type": "code",
   "execution_count": null,
   "metadata": {},
   "outputs": [],
   "source": []
  }
 ],
 "metadata": {
  "kernelspec": {
   "display_name": "Python 3",
   "language": "python",
   "name": "python3"
  },
  "language_info": {
   "codemirror_mode": {
    "name": "ipython",
    "version": 3
   },
   "file_extension": ".py",
   "mimetype": "text/x-python",
   "name": "python",
   "nbconvert_exporter": "python",
   "pygments_lexer": "ipython3",
   "version": "3.4.3"
  }
 },
 "nbformat": 4,
 "nbformat_minor": 2
}
