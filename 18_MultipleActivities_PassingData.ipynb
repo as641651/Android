{
 "cells": [
  {
   "cell_type": "markdown",
   "metadata": {},
   "source": [
    "## Multiple Activities\n",
    "\n",
    "> We can **switch** and **pass variables** between multiple activities using **Intent class**\n",
    "\n",
    "> Create a new activity **File** -> **New** -> **activity** and choose the required activity\n",
    "\n",
    ">> This will create another activity and layout file"
   ]
  },
  {
   "cell_type": "markdown",
   "metadata": {},
   "source": [
    "**Activity 1**\n",
    "\n",
    "```java\n",
    "public class MainActivity extends AppCompatActivity {\n",
    "\n",
    "    // onCLick method for a button in activity layout 1\n",
    "    public void toSecondActivity(View view){\n",
    "\n",
    "        //Create Intent instance by passing current Context and context of the other activity\n",
    "        Intent intent = new Intent(getApplicationContext(),Main2Activity.class);\n",
    "        //pass variables\n",
    "        intent.putExtra(\"username\",\"rob\");\n",
    "        //jump to activity\n",
    "        startActivity(intent);\n",
    "        \n",
    "    }\n",
    "    @Override\n",
    "    protected void onCreate(Bundle savedInstanceState) {\n",
    "        super.onCreate(savedInstanceState);\n",
    "        setContentView(R.layout.activity_main);\n",
    "\n",
    "\n",
    "    }\n",
    "}\n",
    "```"
   ]
  },
  {
   "cell_type": "markdown",
   "metadata": {},
   "source": [
    "**Activity 2**\n",
    "\n",
    "```java\n",
    "public class Main2Activity extends AppCompatActivity {\n",
    "\n",
    "    // onclick method to go back to first activity                                                  \n",
    "    public void toFirstActivity(View view){\n",
    "        Intent intent = new Intent(getApplicationContext(),MainActivity.class);\n",
    "        startActivity(intent);\n",
    "    }\n",
    "\n",
    "    @Override\n",
    "    protected void onCreate(Bundle savedInstanceState) {\n",
    "        super.onCreate(savedInstanceState);\n",
    "        setContentView(R.layout.activity_main2);\n",
    "\n",
    "        //Get the intent that got to this activity\n",
    "        Intent  intent = getIntent();\n",
    "        //get the variable from other activity\n",
    "        Toast.makeText(this,intent.getStringExtra(\"username\"),Toast.LENGTH_LONG).show();\n",
    "    }\n",
    "}\n",
    "```"
   ]
  },
  {
   "cell_type": "markdown",
   "metadata": {},
   "source": [
    "### Passing data between activities\n",
    "\n",
    "> Recall that each activity is a **class**\n",
    "\n",
    "> **Static variables and methods** can be **accessed between classes without having to instantiate**\n",
    "\n",
    "**Activity 1**\n",
    "```java\n",
    "public class MainActivity extends AppCompatActivity {\n",
    "\n",
    "    static ArrayList<String> places = new ArrayList<>();\n",
    "    static ArrayList<LatLng> latlngs = new ArrayList<>();\n",
    "    static ListView listview;\n",
    "    private static ArrayAdapter arrayAdapter;\n",
    "    \n",
    "    ...\n",
    "    \n",
    "     @Override\n",
    "    protected void onCreate(Bundle savedInstanceState){\n",
    "    //instantiate arrayAdapter. 'this' cannot be used under static methods\n",
    "    arrayAdapter = new ArrayAdapter(this,android.R.layout.simple_list_item_1,places);\n",
    "   }\n",
    "                                                     \n",
    "    public static void updateListView(){\n",
    "        arrayAdapter.notifyDataSetChanged();\n",
    "    }\n",
    "```                                                     "
   ]
  },
  {
   "cell_type": "markdown",
   "metadata": {},
   "source": [
    "**Activity 2**\n",
    "\n",
    "```java\n",
    "public void onMapReady(GoogleMap googleMap) {\n",
    "                MainActivity.places.add(addr);\n",
    "                MainActivity.latlngs.add(latLng);\n",
    "                MainActivity.updateListView();\n",
    " }\n",
    "```"
   ]
  },
  {
   "cell_type": "code",
   "execution_count": null,
   "metadata": {},
   "outputs": [],
   "source": []
  }
 ],
 "metadata": {
  "kernelspec": {
   "display_name": "Python 3",
   "language": "python",
   "name": "python3"
  },
  "language_info": {
   "codemirror_mode": {
    "name": "ipython",
    "version": 3
   },
   "file_extension": ".py",
   "mimetype": "text/x-python",
   "name": "python",
   "nbconvert_exporter": "python",
   "pygments_lexer": "ipython3",
   "version": "3.4.3"
  }
 },
 "nbformat": 4,
 "nbformat_minor": 2
}
