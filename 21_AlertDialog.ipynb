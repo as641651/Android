{
 "cells": [
  {
   "cell_type": "markdown",
   "metadata": {},
   "source": [
    "## Alert dialog box\n",
    "\n",
    "> Pop up dialog with two options.\n",
    "\n",
    "> The dialog closes if we click elsewhere on the screen\n",
    "\n"
   ]
  },
  {
   "cell_type": "markdown",
   "metadata": {},
   "source": [
    "```java\n",
    "public class MainActivity extends AppCompatActivity {\n",
    "\n",
    "    @Override\n",
    "    protected void onCreate(Bundle savedInstanceState) {\n",
    "        super.onCreate(savedInstanceState);\n",
    "        setContentView(R.layout.activity_main);\n",
    "\n",
    "        new AlertDialog.Builder(this)\n",
    "                .setIcon(android.R.drawable.ic_dialog_alert)\n",
    "                .setTitle(\"Are you sure?\")\n",
    "                .setMessage(\"Do you definitely want to do this?\")\n",
    "                .setPositiveButton(\"Yes\", new DialogInterface.OnClickListener() {\n",
    "                    @Override\n",
    "                    public void onClick(DialogInterface dialog, int which) {\n",
    "                        Toast.makeText(MainActivity.this,\"Its done!\",Toast.LENGTH_LONG).show();\n",
    "                    }\n",
    "                })\n",
    "                .setNegativeButton(\"No\",null)\n",
    "                .show();\n",
    "        \n",
    "\n",
    "    }\n",
    "}\n",
    "```"
   ]
  },
  {
   "cell_type": "markdown",
   "metadata": {},
   "source": [
    "### Example project:\n",
    "    AlertDialog"
   ]
  },
  {
   "cell_type": "code",
   "execution_count": null,
   "metadata": {},
   "outputs": [],
   "source": []
  }
 ],
 "metadata": {
  "kernelspec": {
   "display_name": "Python 3",
   "language": "python",
   "name": "python3"
  },
  "language_info": {
   "codemirror_mode": {
    "name": "ipython",
    "version": 3
   },
   "file_extension": ".py",
   "mimetype": "text/x-python",
   "name": "python",
   "nbconvert_exporter": "python",
   "pygments_lexer": "ipython3",
   "version": "3.4.3"
  }
 },
 "nbformat": 4,
 "nbformat_minor": 2
}
