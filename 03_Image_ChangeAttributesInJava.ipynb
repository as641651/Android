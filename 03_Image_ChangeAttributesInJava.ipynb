{
 "cells": [
  {
   "cell_type": "markdown",
   "metadata": {},
   "source": [
    "## Adding Images\n",
    "\n",
    "> 1) Place the image (say cat1.jpg) under **app/src/main/res/drawable** folder\n",
    "\n",
    "> 2) Add **ImageView** widget to the layout and edit the **src** attribute to point to the image file\n",
    "```xml\n",
    "app:srcCompat=\"@drawable/cat1\"\n",
    "```"
   ]
  },
  {
   "cell_type": "markdown",
   "metadata": {},
   "source": [
    "### Changing attributes in java file\n",
    "\n",
    "> Here, we ll demonstrate an example of changing the image file in the ImageView widget when a button is clicked.\n",
    "\n",
    "> 1) Let the onClick function of the button widget be **clickFunction**\n",
    "\n",
    "> 2) Let the **id** of the ImageView widget be **imageView**\n",
    "\n",
    "> 3) Let the new image file name be **cat2.jpg**\n",
    "\n",
    "```java\n",
    "    boolean changed = false;\n",
    "    public void clickFunction(View view){\n",
    "        //Grab the ImageView widget\n",
    "        ImageView image = (ImageView) findViewById(R.id.imageView);\n",
    "        if(!changed) {\n",
    "            // Change attributes\n",
    "            image.setImageResource(R.drawable.cat2);\n",
    "            changed = true;\n",
    "        }else{\n",
    "            image.setImageResource(R.drawable.cat1);\n",
    "            changed = false;\n",
    "        }\n",
    "\n",
    "    }\n",
    "```"
   ]
  },
  {
   "cell_type": "markdown",
   "metadata": {},
   "source": [
    "**Example of changing TextView widget** (Currency Converter example)\n",
    "\n",
    "```java\n",
    "TextView inr = (TextView) findViewById(R.id.editText2);\n",
    "inr.setText(\"New text\");\n",
    "```"
   ]
  },
  {
   "cell_type": "code",
   "execution_count": null,
   "metadata": {},
   "outputs": [],
   "source": []
  }
 ],
 "metadata": {
  "kernelspec": {
   "display_name": "Python 3",
   "language": "python",
   "name": "python3"
  },
  "language_info": {
   "codemirror_mode": {
    "name": "ipython",
    "version": 3
   },
   "file_extension": ".py",
   "mimetype": "text/x-python",
   "name": "python",
   "nbconvert_exporter": "python",
   "pygments_lexer": "ipython3",
   "version": "3.4.3"
  }
 },
 "nbformat": 4,
 "nbformat_minor": 2
}
