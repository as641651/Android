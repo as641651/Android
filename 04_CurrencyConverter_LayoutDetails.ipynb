{
 "cells": [
  {
   "cell_type": "markdown",
   "metadata": {},
   "source": [
    "## Currency converter Layout details\n",
    "\n",
    "> 1) Placeholder for Text field is specified using **hint** attribute\n",
    "\n",
    "> 2) The layout should be readable when the oritentation is changed and even when it is on different devices. \n",
    "\n",
    "> 3) To keep the elements below each other aligned, better set **layout_width = parent**\n",
    "\n",
    "> 4) To align texts within a widget, use **gravity attribute**"
   ]
  },
  {
   "cell_type": "markdown",
   "metadata": {},
   "source": []
  }
 ],
 "metadata": {
  "kernelspec": {
   "display_name": "Python 3",
   "language": "python",
   "name": "python3"
  },
  "language_info": {
   "codemirror_mode": {
    "name": "ipython",
    "version": 3
   },
   "file_extension": ".py",
   "mimetype": "text/x-python",
   "name": "python",
   "nbconvert_exporter": "python",
   "pygments_lexer": "ipython3",
   "version": "3.4.3"
  }
 },
 "nbformat": 4,
 "nbformat_minor": 2
}
