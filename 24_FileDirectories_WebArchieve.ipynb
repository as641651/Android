{
 "cells": [
  {
   "cell_type": "markdown",
   "metadata": {},
   "source": [
    "## Accessing File and Cache directories"
   ]
  },
  {
   "cell_type": "markdown",
   "metadata": {},
   "source": [
    "> The files related to a package are stored under\n",
    "```bash\n",
    "        /data/user/0/PACKAGENAME/ (absolute path)\n",
    "        /data/data/PACKAGENAME/ (canonical path)\n",
    "```"
   ]
  },
  {
   "cell_type": "markdown",
   "metadata": {},
   "source": [
    "> **getFilesDir() or getCacheDir()** in **Activity file** can be used to get these paths\n",
    "\n",
    "```java\n",
    "        try {\n",
    "            Log.i(\"Files dir Abs path\" , getCacheDir().getAbsolutePath());\n",
    "            //data/user/0/com.aravindsankaran.webarchieveandsystemdirs/files/\n",
    "            Log.i(\"Files dir Canonical\" , getFilesDir().getCanonicalPath());\n",
    "            //data/data/com.aravindsankaran.webarchieveandsystemdirs/files\n",
    "            Log.i(\"Cache dir\" , getCacheDir().getCanonicalPath());\n",
    "            //data/data/com.aravindsankaran.webarchieveandsystemdirs/cache\n",
    "            Log.i(\"External Cache dir\" , getExternalCacheDir().getCanonicalPath());\n",
    "            //storage/emulated/0/Android/data/com.aravindsankaran.webarchieveandsystemdirs/cache\n",
    "\n",
    "        } catch (Exception e) {\n",
    "            e.printStackTrace();\n",
    "        }\n",
    "```"
   ]
  },
  {
   "cell_type": "markdown",
   "metadata": {},
   "source": [
    "## Saving web pages as archieve\n",
    "\n",
    "> When a web page is saved as archieved, it saves the images, scripts and other files locally as **.mht** file.\n",
    "\n",
    "> Command used to save: **webView.saveWebArchieve(PATHTOSAVE)**\n",
    "\n",
    "> Command used to load : **webView.loadUrl(\"file://\" + PATHTOARCHIEVE)**\n",
    "\n",
    "```java\n",
    "        WebView webView = (WebView) findViewById(R.id.webView);\n",
    "\n",
    "        final File archieve = new File(getFilesDir(),\"archieve.mht\");\n",
    "        Log.i(\"archive\",archieve.getAbsolutePath());\n",
    "        //data/user/0/com.aravindsankaran.webarchieveandsystemdirs/files/archieve.mht\n",
    "\n",
    "        webView.setWebViewClient(new WebViewClient(){\n",
    "            @Override\n",
    "            public void onPageFinished(WebView view, String url) {\n",
    "                //save archive after the webpage is loaded. Otherwise, we get empty page\n",
    "                if(!archieve.exists()){\n",
    "                    view.saveWebArchive(archieve.getAbsolutePath());\n",
    "                    Log.i(\"saved\",\"page saved\");\n",
    "                }\n",
    "                super.onPageFinished(view, url);\n",
    "            }\n",
    "        });\n",
    "\n",
    "        if(android.os.Build.VERSION.SDK_INT >= android.os.Build.VERSION_CODES.JELLY_BEAN) {\n",
    "            webView.getSettings().setAllowFileAccessFromFileURLs(true);\n",
    "            webView.getSettings().setAllowUniversalAccessFromFileURLs(true);\n",
    "        }\n",
    "```"
   ]
  },
  {
   "cell_type": "markdown",
   "metadata": {},
   "source": [
    "> **To check internet connection, we need the following permissions**\n",
    "```xml\n",
    "    <uses-permission android:name=\"android.permission.ACCESS_NETWORK_STATE\" />\n",
    "    <uses-permission android:name=\"android.permission.INTERNET\"></uses-permission>\n",
    "```"
   ]
  },
  {
   "cell_type": "markdown",
   "metadata": {},
   "source": [
    "> **To load from archieve when not connected to internet**\n",
    "\n",
    "```java\n",
    "        //load page if connected to internet or restore from archieve if available\n",
    "        if(isConnected())\n",
    "            webView.loadUrl(\"http://www.google.com\");\n",
    "        else{\n",
    "            if(archieve.exists())\n",
    "                webView.loadUrl(\"file://\" + archieve.getAbsolutePath());\n",
    "            else\n",
    "                webView.loadData(\"<h1>No Connection</h1>\",\"text/html\",\"UTF-8\");\n",
    "        }\n",
    "\n",
    "    }\n",
    "\n",
    "    boolean isConnected(){\n",
    "        ConnectivityManager cm =\n",
    "             (ConnectivityManager)getApplicationContext().\n",
    "    getSystemService(getApplicationContext().CONNECTIVITY_SERVICE);\n",
    "\n",
    "        NetworkInfo activeNetwork = cm.getActiveNetworkInfo();\n",
    "        boolean connection = activeNetwork != null &&\n",
    "                activeNetwork.isConnectedOrConnecting();\n",
    "\n",
    "        return connection;\n",
    "    }\n",
    "```"
   ]
  },
  {
   "cell_type": "code",
   "execution_count": null,
   "metadata": {},
   "outputs": [],
   "source": []
  }
 ],
 "metadata": {
  "kernelspec": {
   "display_name": "Python 3",
   "language": "python",
   "name": "python3"
  },
  "language_info": {
   "codemirror_mode": {
    "name": "ipython",
    "version": 3
   },
   "file_extension": ".py",
   "mimetype": "text/x-python",
   "name": "python",
   "nbconvert_exporter": "python",
   "pygments_lexer": "ipython3",
   "version": "3.4.3"
  }
 },
 "nbformat": 4,
 "nbformat_minor": 2
}
