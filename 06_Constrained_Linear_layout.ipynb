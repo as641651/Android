{
 "cells": [
  {
   "cell_type": "markdown",
   "metadata": {},
   "source": [
    "## Constraint layout, Linear layout"
   ]
  },
  {
   "cell_type": "markdown",
   "metadata": {},
   "source": [
    "### 1) Constraint layout\n",
    "\n",
    "**Important parameters**\n",
    "\n",
    "> 1) layout_constraintBottom_\n",
    "\n",
    "> 2) layout_constraintEnd_ (Right)\n",
    "\n",
    "> 3) layout_constraintStart_ (Left)\n",
    "\n",
    "> 4) layout_constraintTop_\n",
    "\n",
    "> 5) layout_constraintHorizontal_bias\n",
    "\n",
    "> 6) layout_constraintVertical_bias "
   ]
  },
  {
   "cell_type": "markdown",
   "metadata": {},
   "source": [
    "The constraints can be added by playing with the connectors\n",
    "\n",
    "**Bias** \n",
    "\n",
    "> 1) Bias determines where the widget gets located in the constrained layout. \n",
    "\n",
    "> 2) Horizontal bias gets activated when both left and right constraints are defined. (similarly top and bottom for vertical bias)\n",
    "\n",
    "> 3) They can be **controlled with the sliders in the attributes bar** (or by dragging in the panel)\n",
    "\n",
    "> 4) When both bias are **0.5** (default), **widget is at the center for all screens** and orientation\n",
    "\n",
    "```xml\n",
    "        app:layout_constraintBottom_toBottomOf=\"parent\"\n",
    "        app:layout_constraintEnd_toEndOf=\"parent\"\n",
    "        app:layout_constraintStart_toStartOf=\"parent\"\n",
    "        app:layout_constraintTop_toTopOf=\"parent\" \n",
    "```\n",
    "<img src=\"files/constraint1.png\" width=500px/>\n",
    "\n",
    "> To place the **widget at the bottom left corner for all screens** and orientation, drag the bias sliders to bottom left (**0.0** and **1.0**)\n",
    "\n",
    "```xml\n",
    "        app:layout_constraintBottom_toBottomOf=\"parent\"\n",
    "        app:layout_constraintEnd_toEndOf=\"parent\"\n",
    "        app:layout_constraintHorizontal_bias=\"0.0\"\n",
    "        app:layout_constraintStart_toStartOf=\"parent\"\n",
    "        app:layout_constraintTop_toTopOf=\"parent\"\n",
    "        app:layout_constraintVertical_bias=\"1.0\"\n",
    "```\n",
    "\n",
    "<img src=\"files/constraint2.png\" width=500px/>"
   ]
  },
  {
   "cell_type": "markdown",
   "metadata": {},
   "source": [
    "**Margin**\n",
    "\n",
    "> 1) When only one of the top/bottom (or left/right) constrained is specified, that distance is added as **margin**\n",
    "\n",
    "> Eg, When we remove the bottom constrain, a specific pixel from top of screen is defined as we drag the widget. The look of the positioning might be different in different screens. \n",
    "\n",
    "```xml\n",
    "        app:layout_constraintEnd_toEndOf=\"parent\"\n",
    "        app:layout_constraintStart_toStartOf=\"parent\"\n",
    "        app:layout_constraintHorizontal_bias=\"0.498\"\n",
    "        app:layout_constraintTop_toTopOf=\"parent\"\n",
    "        android:layout_marginTop=\"136dp\"\n",
    "```\n",
    "\n",
    "<img src=\"files/constraint3.png\" width=500px/>"
   ]
  },
  {
   "cell_type": "markdown",
   "metadata": {},
   "source": [
    "### 2) Linear layout"
   ]
  },
  {
   "cell_type": "markdown",
   "metadata": {},
   "source": [
    "This layout is used when we want to position widgets next to each other (horizontally/vertically). The layout itself can be **inside constrained layout** and can be dragged as a whole\n",
    "\n",
    "> **NOTE: (layout gravity) ** The widgets within linear layout will now have a **new parameter** called **layout gravity**. This is used to align each element within the linear layout"
   ]
  },
  {
   "cell_type": "markdown",
   "metadata": {},
   "source": [
    "Linear layout **vertical**\n",
    "\n",
    "> 1) Widgets can be **ordered only one below the other**\n",
    "\n",
    "> 2) The **button widget has layout gravity = center**\n",
    "\n",
    "<img src=\"files/linear1.png\" width=500px/>"
   ]
  },
  {
   "cell_type": "markdown",
   "metadata": {},
   "source": [
    "Linear layout **horizontal**\n",
    "\n",
    "> 1) Widgets can **only be ordered next to each other**\n",
    "\n",
    "<img src=\"files/linear2.png\" width=500px/>"
   ]
  },
  {
   "cell_type": "code",
   "execution_count": null,
   "metadata": {},
   "outputs": [],
   "source": []
  }
 ],
 "metadata": {
  "kernelspec": {
   "display_name": "Python 3",
   "language": "python",
   "name": "python3"
  },
  "language_info": {
   "codemirror_mode": {
    "name": "ipython",
    "version": 3
   },
   "file_extension": ".py",
   "mimetype": "text/x-python",
   "name": "python",
   "nbconvert_exporter": "python",
   "pygments_lexer": "ipython3",
   "version": "3.4.3"
  }
 },
 "nbformat": 4,
 "nbformat_minor": 2
}
