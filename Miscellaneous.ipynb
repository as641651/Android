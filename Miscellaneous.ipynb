{
 "cells": [
  {
   "cell_type": "markdown",
   "metadata": {},
   "source": [
    "## Miscellaneous"
   ]
  },
  {
   "cell_type": "markdown",
   "metadata": {},
   "source": [
    "**1) Set app to Full Screen**\n",
    "\n",
    "> In **AndroidManifest.xml**, set under application attributes\n",
    "```xml\n",
    "android:theme=\"@style/Theme.AppCompat.NoActionBar\"\n",
    "```"
   ]
  },
  {
   "cell_type": "markdown",
   "metadata": {},
   "source": [
    "**2) Catching errors**\n",
    "\n",
    "> When your code breaks while running, look for the **blue underlined** links in the console. They point to the line number in your code that caused the excception"
   ]
  },
  {
   "cell_type": "markdown",
   "metadata": {},
   "source": [
    "**3) Date time string**\n",
    "\n",
    "```java\n",
    "    SimpleDateFormat sdf = new SimpleDateFormat(\"yyyyMMdd_HHmmss\");\n",
    "    String currentDateTime = sdf.format(new Date());\n",
    "```"
   ]
  },
  {
   "cell_type": "markdown",
   "metadata": {},
   "source": [
    "**4) Listening back button pressed**\n",
    "\n",
    "> In **Activity file**\n",
    "```java\n",
    "    @Override\n",
    "    public void onBackPressed() {\n",
    "        super.onBackPressed();\n",
    "        //Do something\n",
    "    }\n",
    "```\n",
    "\n",
    "> In cases where we want to display something before going back, this approach may be needed (**Eg,WebView project**)\n",
    "\n",
    "```java\n",
    "    @Override\n",
    "        public boolean onKeyDown(int keyCode, KeyEvent event) {\n",
    "\n",
    "            if(event.getAction()==KeyEvent.ACTION_DOWN){\n",
    "                if(keyCode==KeyEvent.KEYCODE_BACK){\n",
    "                    if(Some condition) // this is important because at some point we want back to close\n",
    "                        //Do something\n",
    "                     else\n",
    "                       finish();\n",
    "                    return true;\n",
    "                }\n",
    "            }\n",
    "            return super.onKeyDown(keyCode, event);\n",
    "        }\n",
    "```"
   ]
  },
  {
   "cell_type": "markdown",
   "metadata": {},
   "source": [
    "**5) Listening to edit text change**\n",
    "\n",
    "```java\n",
    "        editText.addTextChangedListener(new TextWatcher() {\n",
    "            @Override\n",
    "            public void beforeTextChanged(CharSequence s, int start, int count, int after) {\n",
    "\n",
    "            }\n",
    "\n",
    "            @Override\n",
    "            public void onTextChanged(CharSequence s, int start, int before, int count) {\n",
    "\n",
    "            }\n",
    "\n",
    "            @Override\n",
    "            public void afterTextChanged(Editable s) {\n",
    "\n",
    "                \n",
    "        });\n",
    "```"
   ]
  },
  {
   "cell_type": "markdown",
   "metadata": {},
   "source": [
    "6) **JSON Array** is useful when an array is represented as a string. Ie, to get the individual elements of **\"[1,2,3]\"**, \n",
    "\n",
    "```java\n",
    "    JSONArray arr = new JSONArray(string);\n",
    "    for(int i=0; i< arr.length();i++)\n",
    "        arr.getInt(i); //use the get method corresponding to datatype needed\n",
    "```"
   ]
  },
  {
   "cell_type": "markdown",
   "metadata": {},
   "source": [
    "**7) Check if device is connected to internet**\n",
    "\n",
    "```java\n",
    "    boolean isConnected(){\n",
    "        ConnectivityManager cm =\n",
    "                (ConnectivityManager)getApplicationContext().getSystemService(getApplicationContext().CONNECTIVITY_SERVICE);\n",
    "\n",
    "        NetworkInfo activeNetwork = cm.getActiveNetworkInfo();\n",
    "        boolean connection = activeNetwork != null &&\n",
    "                activeNetwork.isConnectedOrConnecting();\n",
    "\n",
    "        return connection;\n",
    "    }\n",
    "```\n",
    "> **Needs permission**\n",
    "```xml\n",
    "<uses-permission android:name=\"android.permission.ACCESS_NETWORK_STATE\" />\n",
    "```"
   ]
  },
  {
   "cell_type": "markdown",
   "metadata": {},
   "source": [
    "**8) Delete files from phone directory**\n",
    "```java\n",
    "    void clearArchieves(){\n",
    "        for(File child : getFilesDir().listFiles()){\n",
    "            if(child.getAbsolutePath().endsWith(\".mht\"))\n",
    "                child.delete();\n",
    "        }\n",
    "    }\n",
    "```"
   ]
  },
  {
   "cell_type": "code",
   "execution_count": null,
   "metadata": {},
   "outputs": [],
   "source": []
  }
 ],
 "metadata": {
  "kernelspec": {
   "display_name": "Python 3",
   "language": "python",
   "name": "python3"
  },
  "language_info": {
   "codemirror_mode": {
    "name": "ipython",
    "version": 3
   },
   "file_extension": ".py",
   "mimetype": "text/x-python",
   "name": "python",
   "nbconvert_exporter": "python",
   "pygments_lexer": "ipython3",
   "version": "3.4.3"
  }
 },
 "nbformat": 4,
 "nbformat_minor": 2
}
