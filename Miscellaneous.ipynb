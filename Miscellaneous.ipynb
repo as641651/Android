{
 "cells": [
  {
   "cell_type": "markdown",
   "metadata": {},
   "source": [
    "## Miscellaneous"
   ]
  },
  {
   "cell_type": "markdown",
   "metadata": {},
   "source": [
    "**1) Set app to Full Screen**\n",
    "\n",
    "> In **AndroidManifest.xml**, set under application attributes\n",
    "```xml\n",
    "android:theme=\"@style/Theme.AppCompat.NoActionBar\"\n",
    "```"
   ]
  },
  {
   "cell_type": "markdown",
   "metadata": {},
   "source": [
    "**2) Catching errors**\n",
    "\n",
    "> When your code breaks while running, look for the **blue underlined** links in the console. They point to the line number in your code that caused the excception"
   ]
  },
  {
   "cell_type": "markdown",
   "metadata": {},
   "source": [
    "**3) Date time string**\n",
    "\n",
    "```java\n",
    "    SimpleDateFormat sdf = new SimpleDateFormat(\"yyyyMMdd_HHmmss\");\n",
    "    String currentDateTime = sdf.format(new Date());\n",
    "```"
   ]
  },
  {
   "cell_type": "code",
   "execution_count": null,
   "metadata": {},
   "outputs": [],
   "source": []
  }
 ],
 "metadata": {
  "kernelspec": {
   "display_name": "Python 3",
   "language": "python",
   "name": "python3"
  },
  "language_info": {
   "codemirror_mode": {
    "name": "ipython",
    "version": 3
   },
   "file_extension": ".py",
   "mimetype": "text/x-python",
   "name": "python",
   "nbconvert_exporter": "python",
   "pygments_lexer": "ipython3",
   "version": "3.4.3"
  }
 },
 "nbformat": 4,
 "nbformat_minor": 2
}
