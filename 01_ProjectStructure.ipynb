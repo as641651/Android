{
 "cells": [
  {
   "cell_type": "markdown",
   "metadata": {},
   "source": [
    "## Project structure\n",
    "\n",
    "The main files in the **project**:\n",
    "\n",
    "> 1) **MainActivity.java**\n",
    "\n",
    ">> This is where the responsive sections of the app are coded\n",
    "\n",
    "```bash\n",
    "ls app/src/main/java/com/<package_name>/<project_name>\n",
    "    MainActivity.java\n",
    "```\n",
    "\n",
    "\n",
    "```java\n",
    "        package com.aravindsankaran.demoapp;\n",
    "\n",
    "        import android.support.v7.app.AppCompatActivity;\n",
    "        import android.os.Bundle;\n",
    "\n",
    "        public class MainActivity extends AppCompatActivity {\n",
    "\n",
    "            @Override\n",
    "            protected void onCreate(Bundle savedInstanceState) {\n",
    "                super.onCreate(savedInstanceState);\n",
    "                setContentView(R.layout.activity_main);\n",
    "            }\n",
    "        }\n",
    "```"
   ]
  },
  {
   "cell_type": "markdown",
   "metadata": {},
   "source": [
    "> ** 2) Layout**\n",
    "\n",
    ">> This is where the layout of the app page is defined. It is in the **XML format**. This file can be edited interactively from the IDE. The XML file can be viewed and edited by toggling **Design/Text** buttons at the bottom\n",
    "\n",
    "```bash\n",
    "ls app/src/main/res/layout\n",
    "    activity_main.xml\n",
    "```\n",
    "> Note that this file is linked with the **MainActivity**, which containd the response functions for widgets specified in the layout xml\n",
    "\n",
    "```xml\n",
    "        <android.support.constraint.ConstraintLayout \n",
    "               android:layout_width=\"match_parent\" \n",
    "               android:layout_height=\"match_parent\"\n",
    "               tools:context=\".MainActivity\">\n",
    "        </android.support.constraint.ConstraintLayout>\n",
    "```"
   ]
  },
  {
   "cell_type": "markdown",
   "metadata": {},
   "source": [
    "> **3) AndroidManifest.xml**\n",
    "\n",
    ">> This file holds the application meta data like **app name** etc\n",
    "```bash\n",
    "app/src/main/AndroidManifest.xml\n",
    "```\n",
    "\n",
    "```xml\n",
    "<?xml version=\"1.0\" encoding=\"utf-8\"?>\n",
    "<manifest xmlns:android=\"http://schemas.android.com/apk/res/android\"\n",
    "    package=\"com.aravindsankaran.APP_NAME\">\n",
    "\n",
    "    <application\n",
    "        android:allowBackup=\"true\"\n",
    "        <!--  the value for this variable is found in mipmap folder under res   -->\n",
    "        android:icon=\"@mipmap/ic_launcher\"\n",
    "        <!--  the value for this variable is found in values/strings.xml folder under res   -->\n",
    "        android:label=\"@string/app_name\"\n",
    "        android:roundIcon=\"@mipmap/ic_launcher_round\"\n",
    "        android:supportsRtl=\"true\"\n",
    "        <!--  the value for this variable is found in values/style.xml folder under res   -->\n",
    "        android:theme=\"@style/AppTheme\">\n",
    "        <activity android:name=\".MainActivity\">\n",
    "            <intent-filter>\n",
    "                <action android:name=\"android.intent.action.MAIN\" />\n",
    "\n",
    "                <category android:name=\"android.intent.category.LAUNCHER\" />\n",
    "            </intent-filter>\n",
    "        </activity>\n",
    "    </application>\n",
    "\n",
    "</manifest>\n",
    "```"
   ]
  },
  {
   "cell_type": "markdown",
   "metadata": {},
   "source": [
    "### Variables\n",
    "\n",
    "> It is recomended to use **variables** in XML files, so that any changes made are reflected everywhere in the project.\n",
    "\n",
    ">> Eg, **@string/app_name** denotes that a variable named **app_name** is defined in the XML file **res/values/string.xml** \n"
   ]
  },
  {
   "cell_type": "code",
   "execution_count": null,
   "metadata": {},
   "outputs": [],
   "source": []
  }
 ],
 "metadata": {
  "kernelspec": {
   "display_name": "Python 3",
   "language": "python",
   "name": "python3"
  },
  "language_info": {
   "codemirror_mode": {
    "name": "ipython",
    "version": 3
   },
   "file_extension": ".py",
   "mimetype": "text/x-python",
   "name": "python",
   "nbconvert_exporter": "python",
   "pygments_lexer": "ipython3",
   "version": "3.4.3"
  }
 },
 "nbformat": 4,
 "nbformat_minor": 2
}
