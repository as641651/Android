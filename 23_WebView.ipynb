{
 "cells": [
  {
   "cell_type": "markdown",
   "metadata": {},
   "source": [
    "## Web View\n",
    "\n",
    "This is used to display **external urls** or even **local html** in your app\n",
    "\n",
    "> Create a **web view** in the **layout**"
   ]
  },
  {
   "cell_type": "markdown",
   "metadata": {},
   "source": [
    "```java\n",
    "public class MainActivity extends AppCompatActivity {\n",
    "\n",
    "    WebView webView;\n",
    "\n",
    "    @Override\n",
    "    protected void onCreate(Bundle savedInstanceState) {\n",
    "        super.onCreate(savedInstanceState);\n",
    "        setContentView(R.layout.activity_main);\n",
    "\n",
    "        webView = (WebView) findViewById(R.id.webView);\n",
    "\n",
    "        webView.getSettings().setJavaScriptEnabled(true);\n",
    "\n",
    "        webView.setWebViewClient(new WebViewClient());\n",
    "\n",
    "        if(android.os.Build.VERSION.SDK_INT >= android.os.Build.VERSION_CODES.JELLY_BEAN) {\n",
    "            webView.getSettings().setAllowFileAccessFromFileURLs(true);\n",
    "            webView.getSettings().setAllowUniversalAccessFromFileURLs(true);\n",
    "        }\n",
    "\n",
    "        //make the webpage fit the device screen. Needed if bootstrap was not used\n",
    "        webView.getSettings().setLoadWithOverviewMode(true);\n",
    "        webView.getSettings().setUseWideViewPort(true);\n",
    "\n",
    "        //enable zoom\n",
    "        webView.getSettings().setBuiltInZoomControls(true);\n",
    "        //otherwise you ll have a zoom button showing over the layout\n",
    "        webView.getSettings().setDisplayZoomControls(false);\n",
    "\n",
    "        //load external URL\n",
    "        //webView.loadUrl(\"http://www.google.com\");\n",
    "\n",
    "\n",
    "        //we can also load local HTML content\n",
    "        webView.loadUrl(\"file:///android_asset/reaction/proj.html\");\n",
    "\n",
    "    }\n",
    "\n",
    "    //To make the back key to navigate back the webpage\n",
    "    //otherwise, the back key will directly close the app\n",
    "    @Override\n",
    "    public boolean onKeyDown(int keyCode, KeyEvent event) {\n",
    "\n",
    "        if(event.getAction()==KeyEvent.ACTION_DOWN){\n",
    "            if(keyCode==KeyEvent.KEYCODE_BACK){\n",
    "                if(webView.canGoBack())\n",
    "                    webView.goBack();\n",
    "                else\n",
    "                    finish();\n",
    "                return true;\n",
    "            }\n",
    "        }\n",
    "        return super.onKeyDown(keyCode, event);\n",
    "    }\n",
    "}\n",
    "```"
   ]
  },
  {
   "cell_type": "markdown",
   "metadata": {},
   "source": [
    "### Loading local web projects\n",
    "\n",
    "> 1) **File** --> **New** --> **folder** --> **Assets folder**\n",
    "\n",
    ">> This will create a new folder under **src/main/assets**\n",
    "\n",
    "> 2) Place your project under the assets folder\n",
    "\n",
    "> 3) Access the file with url \n",
    "```bash\n",
    "file:///android_asset/PATHTOHOMEPAGE\n",
    "```"
   ]
  },
  {
   "cell_type": "code",
   "execution_count": null,
   "metadata": {},
   "outputs": [],
   "source": []
  }
 ],
 "metadata": {
  "kernelspec": {
   "display_name": "Python 3",
   "language": "python",
   "name": "python3"
  },
  "language_info": {
   "codemirror_mode": {
    "name": "ipython",
    "version": 3
   },
   "file_extension": ".py",
   "mimetype": "text/x-python",
   "name": "python",
   "nbconvert_exporter": "python",
   "pygments_lexer": "ipython3",
   "version": "3.4.3"
  }
 },
 "nbformat": 4,
 "nbformat_minor": 2
}
