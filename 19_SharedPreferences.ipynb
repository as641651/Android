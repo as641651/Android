{
 "cells": [
  {
   "cell_type": "markdown",
   "metadata": {},
   "source": [
    "## Shared preferences\n",
    "\n",
    "> This is one of the way to **store data permanantly**. This is used for **storing a short list of data** or one-off variables which are changed rarely\n",
    "\n",
    "> For larger data, we ll be using **databases** (later)"
   ]
  },
  {
   "cell_type": "markdown",
   "metadata": {},
   "source": [
    "### Storing Strings\n",
    "\n",
    "```java\n",
    "\n",
    "SharedPreferences sharedPreferences = this.getSharedPreferences(getPackageName(),Context.MODE_PRIVATE);\n",
    "\n",
    "//Entering data when run for first time, comment otherwise\n",
    "sharedPreferences.edit().putString(\"username\",\"aravind\").apply();\n",
    "\n",
    "//retrieving data. Provide the key and a default value\n",
    "String username = sharedPreferences.getString(\"username\",\"\");\n",
    "\n",
    "Log.i(\"username\",username);\n",
    "```\n",
    "\n",
    "**Note** : Difference between **sharedPreference.apply()** and **sharedPreference.commit()**\n",
    ">apply() was added in 2.3, it commits without returning a boolean indicating success or failure.\n",
    "\n",
    ">commit() returns true if the save works, false otherwise. "
   ]
  },
  {
   "cell_type": "markdown",
   "metadata": {},
   "source": [
    "### Storing Arrays - using ObjectSerializer\n",
    "\n",
    "> For arrays, we ll have to **serialize** them before storing them. \n",
    "\n",
    "> To serialize, we add a new class **ObjectSerializer** from apache to our project. \n",
    "\n",
    ">> File -> new class.\n",
    "\n",
    ">> New class will be stored in the same folder as MainActivity.java"
   ]
  },
  {
   "cell_type": "markdown",
   "metadata": {},
   "source": [
    "```java\n",
    "\n",
    "//saving arrays in shared preferences\n",
    "\n",
    "ArrayList<String> friends = new ArrayList<>();\n",
    "friends.add(\"AA\");\n",
    "friends.add(\"BB\");\n",
    "\n",
    "try {\n",
    "    //arrays have to be serialized to strings. We have added a class ObjectSerializer to the project\n",
    "    sharedPreferences.edit().putString(\"friends\", ObjectSerializer.serialize(friends)).apply();\n",
    "} catch (IOException e) {\n",
    "    e.printStackTrace();\n",
    "}\n",
    "\n",
    "ArrayList<String> newFriends =new ArrayList<>();\n",
    "\n",
    "\n",
    "try {\n",
    "    //get the string and deserialize. provide default string value\n",
    "    newFriends = (ArrayList<String>)ObjectSerializer.deserialize(\n",
    "            sharedPreferences.getString(\"friends\",ObjectSerializer.serialize(new ArrayList<>())));\n",
    "} catch (IOException e) {\n",
    "    e.printStackTrace();\n",
    "}\n",
    "\n",
    "Log.i(\"Friends\",newFriends.toString());\n",
    "```"
   ]
  },
  {
   "cell_type": "markdown",
   "metadata": {},
   "source": [
    "### Storing arrays : using HashSet\n",
    "\n",
    "> **HashSet** are like arrays but with **no items repeated**\n",
    "\n",
    "> **This method DOES NOT PRESERVE ORDER of retrieval**. So if we need two arrays synched, this wont work (Memorable places project). But this is good enough for Notes project\n",
    "\n",
    "```java\n",
    "//get array\n",
    "HashSet<String> set = (HashSet<String>)sharedPreferences.getStringSet(\"notes\",null);\n",
    "if(set == null)\n",
    "    notes = new ArrayList<>();\n",
    "else\n",
    "    notes = new ArrayList<>(set);\n",
    "\n",
    "//put array\n",
    "HashSet<String> set = new HashSet<>(notes);\n",
    "sharedPreferences.edit().putStringSet(\"notes\",set).apply();\n",
    "```"
   ]
  },
  {
   "cell_type": "markdown",
   "metadata": {},
   "source": [
    "### Clearing preferences\n",
    "\n",
    "```java\n",
    "sharedPreferences.edit().clear().apply();\n",
    "```"
   ]
  },
  {
   "cell_type": "markdown",
   "metadata": {},
   "source": [
    "### Limitation:\n",
    "\n",
    "> Not all java objects are serializable. We may have to store the params separately and recreate those objects on every run\n",
    "\n",
    "> **Example in MemorablePlaces project**"
   ]
  },
  {
   "cell_type": "code",
   "execution_count": null,
   "metadata": {},
   "outputs": [],
   "source": []
  }
 ],
 "metadata": {
  "kernelspec": {
   "display_name": "Python 3",
   "language": "python",
   "name": "python3"
  },
  "language_info": {
   "codemirror_mode": {
    "name": "ipython",
    "version": 3
   },
   "file_extension": ".py",
   "mimetype": "text/x-python",
   "name": "python",
   "nbconvert_exporter": "python",
   "pygments_lexer": "ipython3",
   "version": "3.4.3"
  }
 },
 "nbformat": 4,
 "nbformat_minor": 2
}
