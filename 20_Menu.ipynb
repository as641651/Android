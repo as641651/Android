{
 "cells": [
  {
   "cell_type": "markdown",
   "metadata": {},
   "source": [
    "## Menu\n"
   ]
  },
  {
   "cell_type": "markdown",
   "metadata": {},
   "source": [
    "Standard Menu appears as three dots on top right corner of the screen.\n",
    "\n",
    "> 1) **Add main_menu.xml** to **res**\n",
    "\n",
    ">> Create new directory under **res**\n",
    "\n",
    ">> Under this directory, **file -> new -> menu resource file**\n",
    "\n",
    "> 2) Add **menu items** to the **xml** file (can also use drag and drop interface)\n",
    "\n",
    "```xml\n",
    "    <item\n",
    "        android:title=\"Settings\"\n",
    "        android:id=\"@+id/settings\"></item>\n",
    "    <item\n",
    "        android:id=\"@+id/help\"\n",
    "        android:title=\"Help\" />\n",
    "```\n",
    "> 3) **Bind this menu in the activity**\n",
    "\n",
    "```java\n",
    "    public class MainActivity extends AppCompatActivity {\n",
    "\n",
    "        @Override\n",
    "        public boolean onCreateOptionsMenu(Menu menu) {\n",
    "\n",
    "            MenuInflater menuInflater = getMenuInflater();\n",
    "\n",
    "            //bind the menu resouce with the menu class\n",
    "            menuInflater.inflate(R.menu.main_menu,menu);\n",
    "\n",
    "            return super.onCreateOptionsMenu(menu);\n",
    "        }\n",
    "\n",
    "        @Override\n",
    "        public boolean onOptionsItemSelected(MenuItem item) {\n",
    "\n",
    "            super.onOptionsItemSelected(item);\n",
    "\n",
    "            //specifiy what should be done when the items are selected\n",
    "            switch (item.getItemId()){\n",
    "                case R.id.settings:\n",
    "                    Log.i(\"Menu item\",\"Settings\");\n",
    "                    return true;\n",
    "                case R.id.help:\n",
    "                    Log.i(\"Menu item\",\"Help\");\n",
    "                    return true;\n",
    "                default:\n",
    "                    return false;\n",
    "\n",
    "            }\n",
    "        }\n",
    "\n",
    "        @Override\n",
    "        protected void onCreate(Bundle savedInstanceState) {\n",
    "            super.onCreate(savedInstanceState);\n",
    "            setContentView(R.layout.activity_main);\n",
    "        }\n",
    "    }\n",
    "```"
   ]
  },
  {
   "cell_type": "code",
   "execution_count": null,
   "metadata": {},
   "outputs": [],
   "source": []
  }
 ],
 "metadata": {
  "kernelspec": {
   "display_name": "Python 3",
   "language": "python",
   "name": "python3"
  },
  "language_info": {
   "codemirror_mode": {
    "name": "ipython",
    "version": 3
   },
   "file_extension": ".py",
   "mimetype": "text/x-python",
   "name": "python",
   "nbconvert_exporter": "python",
   "pygments_lexer": "ipython3",
   "version": "3.4.3"
  }
 },
 "nbformat": 4,
 "nbformat_minor": 2
}
