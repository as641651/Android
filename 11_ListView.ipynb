{
 "cells": [
  {
   "cell_type": "markdown",
   "metadata": {},
   "source": [
    "## List view"
   ]
  },
  {
   "cell_type": "markdown",
   "metadata": {},
   "source": [
    "> 1) List view is used when we want to display a long list of items\n",
    "\n",
    "> 2) The items can also be clickable\n",
    "\n",
    "<img src=\"files/listview.png\" width=300px />"
   ]
  },
  {
   "cell_type": "markdown",
   "metadata": {},
   "source": [
    "```java\n",
    "public class MainActivity extends AppCompatActivity {\n",
    "\n",
    "    @Override\n",
    "    protected void onCreate(Bundle savedInstanceState) {\n",
    "        super.onCreate(savedInstanceState);\n",
    "        setContentView(R.layout.activity_main);\n",
    "\n",
    "        //get list view from layout\n",
    "        ListView myListView = (ListView) findViewById(R.id.mylist);\n",
    "\n",
    "        //create List\n",
    "        final ArrayList<String> myFamily = new ArrayList<String>();\n",
    "        myFamily.add(\"A\");\n",
    "        myFamily.add(\"B\");\n",
    "        myFamily.add(\"C\");\n",
    "        myFamily.add(\"D\");\n",
    "\n",
    "        //bind list to listview\n",
    "        ArrayAdapter<String> arrayAdapter = new ArrayAdapter<String>(this,android.R.layout.simple_list_item_1,myFamily);\n",
    "        myListView.setAdapter(arrayAdapter);\n",
    "\n",
    "        //montior clicking on list items\n",
    "        myListView.setOnItemClickListener(new AdapterView.OnItemClickListener() {\n",
    "            @Override\n",
    "            public void onItemClick(AdapterView<?> parent, View view, int position, long id) {\n",
    "                //parent : whole list\n",
    "                //view : row of the list that was tapped\n",
    "                //position : array index of this element, starting from 0\n",
    "\n",
    "                //log what is tapped\n",
    "                Toast.makeText(MainActivity.this,myFamily.get(position),Toast.LENGTH_LONG).show();\n",
    "//                Log.i(\"Tapped\",myFamily.get(position));\n",
    "            }\n",
    "        });\n",
    "    }\n",
    "}\n",
    "```"
   ]
  },
  {
   "cell_type": "code",
   "execution_count": null,
   "metadata": {},
   "outputs": [],
   "source": []
  }
 ],
 "metadata": {
  "kernelspec": {
   "display_name": "Python 3",
   "language": "python",
   "name": "python3"
  },
  "language_info": {
   "codemirror_mode": {
    "name": "ipython",
    "version": 3
   },
   "file_extension": ".py",
   "mimetype": "text/x-python",
   "name": "python",
   "nbconvert_exporter": "python",
   "pygments_lexer": "ipython3",
   "version": "3.4.3"
  }
 },
 "nbformat": 4,
 "nbformat_minor": 2
}
