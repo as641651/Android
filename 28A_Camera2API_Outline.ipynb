{
 "cells": [
  {
   "cell_type": "markdown",
   "metadata": {},
   "source": [
    "## Using Camera2 API outline"
   ]
  },
  {
   "cell_type": "markdown",
   "metadata": {},
   "source": [
    "**[Must watch](https://www.youtube.com/watch?v=Xtp3tH27OFs)**\n",
    "\n",
    "> 1) Create member variable of class **TextureView** (Instantiate under **OnCreate**)\n",
    "\n",
    "> 2) Instantiate memeber variable of class **TextureView.SurfaceTextureListener**\n",
    "\n",
    ">> **Requires**:\n",
    "```java\n",
    "setUpCamera(width,height); // get camera id, preview size\n",
    "connectCamera(); // open camera and set cameraDevice. Requires camera id, camera listener, backgroundhandler\n",
    "```\n"
   ]
  },
  {
   "cell_type": "markdown",
   "metadata": {},
   "source": [
    "> 3) Create member variable of class **CameraDevice**\n",
    "\n",
    "> 4) Instantiate member variable of class **CameraDEvice.StateCallBack**\n",
    "\n",
    ">> **Requires**:\n",
    "```java\n",
    "mCameraDevice = camera;\n",
    "startPreview(); // stream image buffer\n",
    "```\n"
   ]
  },
  {
   "cell_type": "markdown",
   "metadata": {},
   "source": [
    "> 5) Create a **string** variable for **cameraId**\n",
    "\n",
    "> 6) Create a **Size** variable for **previewSize**\n",
    "\n",
    "> 7) Implement **setUpCamera(int width, int height)**\n",
    "\n",
    ">> a) Find the required **camera Id** from **CameraManager**\n",
    "\n",
    ">> b) Calculate the **preview size** for textureView"
   ]
  },
  {
   "cell_type": "markdown",
   "metadata": {},
   "source": [
    "> 8) Create and implement methods for **BackgroundHandler**\n",
    "\n",
    "> 9) Add **permission to access camera** and **request permission** access under **onCreate**\n",
    "```xml\n",
    "<uses-permission android:name=\"android.permission.CAMERA\" />\n",
    "```\n",
    "\n",
    "> 10) Implement **connectCamera**\n",
    "```java\n",
    "if(ContextCompat.checkSelfPermission(this, Manifest.permission.CAMERA) == 0)\n",
    "    cameraManager.openCamera(mCameraId,mCameraDeviceStateCallback,mBackgroundHandler);\n",
    "```"
   ]
  },
  {
   "cell_type": "markdown",
   "metadata": {},
   "source": [
    "> 11) Implement **startPreview** (called when camera is open by CameraDeice.StateCallback)\n",
    "\n",
    ">> a) Get **SurfaceTexture** and **set preview size**\n",
    "\n",
    ">> b) Create **CaptureRequestBuilder** and **add preview surface as target**\n",
    "\n",
    ">> c) Set **CameraDevice.createCaptureSession**\n",
    "```java\n",
    "mCameraDevice.createCaptureSession(Arrays.asList(previewSurface),\n",
    "                              new CameraCaptureSession.StateCallback(){ build builder},\n",
    "                              null);\n",
    "```"
   ]
  },
  {
   "cell_type": "markdown",
   "metadata": {},
   "source": [
    ">12) Implement **OnResume** and **Onpause** methods to reset cameraDevice and Backgroundhandler"
   ]
  },
  {
   "cell_type": "code",
   "execution_count": null,
   "metadata": {},
   "outputs": [],
   "source": []
  }
 ],
 "metadata": {
  "kernelspec": {
   "display_name": "Python 3",
   "language": "python",
   "name": "python3"
  },
  "language_info": {
   "codemirror_mode": {
    "name": "ipython",
    "version": 3
   },
   "file_extension": ".py",
   "mimetype": "text/x-python",
   "name": "python",
   "nbconvert_exporter": "python",
   "pygments_lexer": "ipython3",
   "version": "3.4.3"
  }
 },
 "nbformat": 4,
 "nbformat_minor": 2
}
